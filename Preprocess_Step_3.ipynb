{
 "cells": [
  {
   "metadata": {
    "ExecuteTime": {
     "end_time": "2025-04-05T15:16:18.984970Z",
     "start_time": "2025-04-05T15:16:18.949601Z"
    }
   },
   "cell_type": "code",
   "source": [
    "import pandas as pd\n",
    "from sklearn.preprocessing import MinMaxScaler\n",
    "\n",
    "from _config import PKL_PROCESSED_STEP2_DTU_SOLAR_STATION\n",
    "\n",
    "TARGETS = ['DNI', 'DHI']\n",
    "INPUT_SEQ_LEN = 60  # 1 hour"
   ],
   "id": "21a9a7de27ad1699",
   "outputs": [],
   "execution_count": 11
  },
  {
   "cell_type": "code",
   "id": "initial_id",
   "metadata": {
    "collapsed": true,
    "ExecuteTime": {
     "end_time": "2025-04-05T15:16:19.462632Z",
     "start_time": "2025-04-05T15:16:18.989572Z"
    }
   },
   "source": [
    "df = pd.read_pickle(PKL_PROCESSED_STEP2_DTU_SOLAR_STATION)\n",
    "df.dropna(inplace=True)\n",
    "minmax_scaler = MinMaxScaler()\n",
    "features = [x for x in df.columns if x not in TARGETS]\n",
    "df[features] = minmax_scaler.fit_transform(df[features])\n",
    "df = df[sorted(df.columns)]\n",
    "\n",
    "print(df.shape)\n",
    "print(df.info())\n",
    "df.head()"
   ],
   "outputs": [
    {
     "name": "stdout",
     "output_type": "stream",
     "text": [
      "(4787572, 10)\n",
      "<class 'pandas.core.frame.DataFrame'>\n",
      "DatetimeIndex: 4787572 entries, 2015-03-12 01:00:00 to 2025-01-01 08:04:00\n",
      "Data columns (total 10 columns):\n",
      " #   Column                    Dtype  \n",
      "---  ------                    -----  \n",
      " 0   DHI                       float64\n",
      " 1   DNI                       float64\n",
      " 2   air_pressure_lag_60       float64\n",
      " 3   air_temperature_lag_60    float64\n",
      " 4   rain_duration_lag_60      float64\n",
      " 5   rain_intensity_lag_60     float64\n",
      " 6   relative_humidity_lag_60  float64\n",
      " 7   solar_altitude_lag_60     float64\n",
      " 8   wind_dir_avg_lag_60       float64\n",
      " 9   wind_speed_avg_lag_60     float64\n",
      "dtypes: float64(10)\n",
      "memory usage: 401.8 MB\n",
      "None\n"
     ]
    },
    {
     "data": {
      "text/plain": [
       "                     DHI  DNI  air_pressure_lag_60  air_temperature_lag_60  \\\n",
       "2015-03-12 01:00:00  0.0  0.0             0.801865                0.321343   \n",
       "2015-03-12 01:01:00  0.0  0.0             0.801865                0.321343   \n",
       "2015-03-12 01:02:00  0.0  0.0             0.801865                0.321343   \n",
       "2015-03-12 01:03:00  0.0  0.0             0.801865                0.321343   \n",
       "2015-03-12 01:04:00  0.0  0.0             0.801865                0.321343   \n",
       "\n",
       "                     rain_duration_lag_60  rain_intensity_lag_60  \\\n",
       "2015-03-12 01:00:00                   0.0                    0.0   \n",
       "2015-03-12 01:01:00                   0.0                    0.0   \n",
       "2015-03-12 01:02:00                   0.0                    0.0   \n",
       "2015-03-12 01:03:00                   0.0                    0.0   \n",
       "2015-03-12 01:04:00                   0.0                    0.0   \n",
       "\n",
       "                     relative_humidity_lag_60  solar_altitude_lag_60  \\\n",
       "2015-03-12 01:00:00                  0.839220               0.178065   \n",
       "2015-03-12 01:01:00                  0.835566               0.178336   \n",
       "2015-03-12 01:02:00                  0.835566               0.178614   \n",
       "2015-03-12 01:03:00                  0.836784               0.178899   \n",
       "2015-03-12 01:04:00                  0.834348               0.179190   \n",
       "\n",
       "                     wind_dir_avg_lag_60  wind_speed_avg_lag_60  \n",
       "2015-03-12 01:00:00             0.129651               0.141040  \n",
       "2015-03-12 01:01:00             0.206943               0.134382  \n",
       "2015-03-12 01:02:00             0.132145               0.134382  \n",
       "2015-03-12 01:03:00             0.127158               0.137711  \n",
       "2015-03-12 01:04:00             0.109705               0.134382  "
      ],
      "text/html": [
       "<div>\n",
       "<style scoped>\n",
       "    .dataframe tbody tr th:only-of-type {\n",
       "        vertical-align: middle;\n",
       "    }\n",
       "\n",
       "    .dataframe tbody tr th {\n",
       "        vertical-align: top;\n",
       "    }\n",
       "\n",
       "    .dataframe thead th {\n",
       "        text-align: right;\n",
       "    }\n",
       "</style>\n",
       "<table border=\"1\" class=\"dataframe\">\n",
       "  <thead>\n",
       "    <tr style=\"text-align: right;\">\n",
       "      <th></th>\n",
       "      <th>DHI</th>\n",
       "      <th>DNI</th>\n",
       "      <th>air_pressure_lag_60</th>\n",
       "      <th>air_temperature_lag_60</th>\n",
       "      <th>rain_duration_lag_60</th>\n",
       "      <th>rain_intensity_lag_60</th>\n",
       "      <th>relative_humidity_lag_60</th>\n",
       "      <th>solar_altitude_lag_60</th>\n",
       "      <th>wind_dir_avg_lag_60</th>\n",
       "      <th>wind_speed_avg_lag_60</th>\n",
       "    </tr>\n",
       "  </thead>\n",
       "  <tbody>\n",
       "    <tr>\n",
       "      <th>2015-03-12 01:00:00</th>\n",
       "      <td>0.0</td>\n",
       "      <td>0.0</td>\n",
       "      <td>0.801865</td>\n",
       "      <td>0.321343</td>\n",
       "      <td>0.0</td>\n",
       "      <td>0.0</td>\n",
       "      <td>0.839220</td>\n",
       "      <td>0.178065</td>\n",
       "      <td>0.129651</td>\n",
       "      <td>0.141040</td>\n",
       "    </tr>\n",
       "    <tr>\n",
       "      <th>2015-03-12 01:01:00</th>\n",
       "      <td>0.0</td>\n",
       "      <td>0.0</td>\n",
       "      <td>0.801865</td>\n",
       "      <td>0.321343</td>\n",
       "      <td>0.0</td>\n",
       "      <td>0.0</td>\n",
       "      <td>0.835566</td>\n",
       "      <td>0.178336</td>\n",
       "      <td>0.206943</td>\n",
       "      <td>0.134382</td>\n",
       "    </tr>\n",
       "    <tr>\n",
       "      <th>2015-03-12 01:02:00</th>\n",
       "      <td>0.0</td>\n",
       "      <td>0.0</td>\n",
       "      <td>0.801865</td>\n",
       "      <td>0.321343</td>\n",
       "      <td>0.0</td>\n",
       "      <td>0.0</td>\n",
       "      <td>0.835566</td>\n",
       "      <td>0.178614</td>\n",
       "      <td>0.132145</td>\n",
       "      <td>0.134382</td>\n",
       "    </tr>\n",
       "    <tr>\n",
       "      <th>2015-03-12 01:03:00</th>\n",
       "      <td>0.0</td>\n",
       "      <td>0.0</td>\n",
       "      <td>0.801865</td>\n",
       "      <td>0.321343</td>\n",
       "      <td>0.0</td>\n",
       "      <td>0.0</td>\n",
       "      <td>0.836784</td>\n",
       "      <td>0.178899</td>\n",
       "      <td>0.127158</td>\n",
       "      <td>0.137711</td>\n",
       "    </tr>\n",
       "    <tr>\n",
       "      <th>2015-03-12 01:04:00</th>\n",
       "      <td>0.0</td>\n",
       "      <td>0.0</td>\n",
       "      <td>0.801865</td>\n",
       "      <td>0.321343</td>\n",
       "      <td>0.0</td>\n",
       "      <td>0.0</td>\n",
       "      <td>0.834348</td>\n",
       "      <td>0.179190</td>\n",
       "      <td>0.109705</td>\n",
       "      <td>0.134382</td>\n",
       "    </tr>\n",
       "  </tbody>\n",
       "</table>\n",
       "</div>"
      ]
     },
     "execution_count": 12,
     "metadata": {},
     "output_type": "execute_result"
    }
   ],
   "execution_count": 12
  },
  {
   "metadata": {
    "ExecuteTime": {
     "end_time": "2025-04-05T15:16:19.487833Z",
     "start_time": "2025-04-05T15:16:19.485313Z"
    }
   },
   "cell_type": "code",
   "source": [
    "# limit the data to years 2020-2024\n",
    "# df = df.loc['2023':]"
   ],
   "id": "40a89b2956098b0f",
   "outputs": [],
   "execution_count": 13
  },
  {
   "metadata": {
    "ExecuteTime": {
     "end_time": "2025-04-05T15:16:19.641223Z",
     "start_time": "2025-04-05T15:16:19.589055Z"
    }
   },
   "cell_type": "code",
   "source": [
    "SPLIT = (0.7, 0.85)  # 65-85% for training; next 20% for validation; remaining 15% for test\n",
    "total_samples = df.shape[0]\n",
    "train_end = int(SPLIT[0] * total_samples)  # e.g., 65% for training\n",
    "val_end = int(SPLIT[1] * total_samples)  # e.g., next 20% for validation\n",
    "\n",
    "train_indices = list(range(0, train_end))\n",
    "val_indices = list(range(train_end, val_end))\n",
    "test_indices = list(range(val_end, total_samples))\n",
    "print(f\"Train indices: {train_indices[:5]} ... {train_indices[-5:]}\")\n",
    "print(f\"Validation indices: {val_indices[:5]} ... {val_indices[-5:]}\")\n",
    "print(f\"Test indices: {test_indices[:5]} ... {test_indices[-5:]}\")\n",
    "print(f'Train size: {len(train_indices)}')\n",
    "print(f'Validation size: {len(val_indices)}')\n",
    "print(f'Test size: {len(test_indices)}')"
   ],
   "id": "4882560468837d5d",
   "outputs": [
    {
     "name": "stdout",
     "output_type": "stream",
     "text": [
      "Train indices: [0, 1, 2, 3, 4] ... [3351295, 3351296, 3351297, 3351298, 3351299]\n",
      "Validation indices: [3351300, 3351301, 3351302, 3351303, 3351304] ... [4069431, 4069432, 4069433, 4069434, 4069435]\n",
      "Test indices: [4069436, 4069437, 4069438, 4069439, 4069440] ... [4787567, 4787568, 4787569, 4787570, 4787571]\n",
      "Train size: 3351300\n",
      "Validation size: 718136\n",
      "Test size: 718136\n"
     ]
    }
   ],
   "execution_count": 14
  },
  {
   "metadata": {
    "ExecuteTime": {
     "end_time": "2025-04-05T15:16:19.654637Z",
     "start_time": "2025-04-05T15:16:19.650050Z"
    }
   },
   "cell_type": "code",
   "source": [
    "import numpy as np\n",
    "\n",
    "\n",
    "def create_sequences(X, y, timestamps, input_seq_len, rolling=True):\n",
    "    X_tmp, y_tmp = [], []\n",
    "    total_length = len(y)\n",
    "    # Define the threshold as a timedelta (here, in minutes)\n",
    "    gap_threshold_timedelta = np.timedelta64(1, 'm')\n",
    "\n",
    "    # Slide over the data\n",
    "    i = 0\n",
    "    while i < total_length - input_seq_len:\n",
    "        # Get timestamps for the entire sequence (input and forecast)\n",
    "        seq_timestamps = timestamps[i: i + input_seq_len]\n",
    "        # Calculate differences between consecutive timestamps\n",
    "        time_diffs = np.diff(seq_timestamps)\n",
    "        # If any gap is larger than the allowed threshold, skip this sequence\n",
    "        if np.any(time_diffs > gap_threshold_timedelta):\n",
    "            if rolling:\n",
    "                i += 1\n",
    "            else:\n",
    "                i += input_seq_len  # Skip to the end of the current sequence\n",
    "            continue\n",
    "        # Otherwise, create the sequence as before\n",
    "        X_tmp.append(X[i: i + input_seq_len])\n",
    "        y_tmp.append(y[i: i + input_seq_len])\n",
    "        if rolling:\n",
    "            i += 1\n",
    "        else:\n",
    "            i += input_seq_len  # Skip to the end of the current sequence\n",
    "    return np.array(X_tmp), np.array(y_tmp)"
   ],
   "id": "7dfac94766e10728",
   "outputs": [],
   "execution_count": 15
  },
  {
   "metadata": {
    "ExecuteTime": {
     "end_time": "2025-04-05T15:17:27.096602Z",
     "start_time": "2025-04-05T15:16:19.671725Z"
    }
   },
   "cell_type": "code",
   "source": [
    "# Training data\n",
    "X = df.iloc[train_indices].drop(columns=TARGETS)\n",
    "y = df.iloc[train_indices][TARGETS]\n",
    "print('Before sequencing:', X.shape, y.shape)\n",
    "X, y = create_sequences(X.to_numpy(), y.to_numpy(), df.index.to_numpy(), INPUT_SEQ_LEN)\n",
    "print('After sequencing:', X.shape, y.shape)\n",
    "# save the data\n",
    "np.savez_compressed('data/train.npz', X=X, y=y)\n",
    "\n",
    "# Validation data\n",
    "X = df.iloc[val_indices].drop(columns=TARGETS)\n",
    "y = df.iloc[val_indices][TARGETS]\n",
    "print('Before sequencing:', X.shape, y.shape)\n",
    "X, y = create_sequences(X.to_numpy(), y.to_numpy(), df.index.to_numpy(), INPUT_SEQ_LEN, rolling=False)\n",
    "print('After sequencing:', X.shape, y.shape)\n",
    "# save the data\n",
    "np.savez_compressed('data/val.npz', X=X, y=y)\n",
    "\n",
    "# Test data\n",
    "X = df.iloc[test_indices].drop(columns=TARGETS)\n",
    "y = df.iloc[test_indices][TARGETS]\n",
    "print('Before sequencing:', X.shape, y.shape)\n",
    "X, y = create_sequences(X.to_numpy(), y.to_numpy(), df.index.to_numpy(), INPUT_SEQ_LEN, rolling=False)\n",
    "print('After sequencing:', X.shape, y.shape)\n",
    "# save the data\n",
    "np.savez_compressed('data/test.npz', X=X, y=y)"
   ],
   "id": "d8485e4b26a77243",
   "outputs": [
    {
     "name": "stdout",
     "output_type": "stream",
     "text": [
      "Before sequencing: (3351300, 8) (3351300, 2)\n",
      "After sequencing: (3349044, 60, 8) (3349044, 60, 2)\n",
      "Before sequencing: (718136, 8) (718136, 2)\n",
      "After sequencing: (11945, 60, 8) (11945, 60, 2)\n",
      "Before sequencing: (718136, 8) (718136, 2)\n",
      "After sequencing: (11945, 60, 8) (11945, 60, 2)\n"
     ]
    }
   ],
   "execution_count": 16
  },
  {
   "metadata": {
    "ExecuteTime": {
     "end_time": "2025-04-05T15:17:27.157186Z",
     "start_time": "2025-04-05T15:17:27.154148Z"
    }
   },
   "cell_type": "code",
   "source": [
    "# # load the data\n",
    "# train = np.load('data/train.npz')\n",
    "# print(train['X'].shape, train['y'].shape)"
   ],
   "id": "ff53d69fb308a0ce",
   "outputs": [],
   "execution_count": 17
  }
 ],
 "metadata": {
  "kernelspec": {
   "display_name": "Python 3",
   "language": "python",
   "name": "python3"
  },
  "language_info": {
   "codemirror_mode": {
    "name": "ipython",
    "version": 2
   },
   "file_extension": ".py",
   "mimetype": "text/x-python",
   "name": "python",
   "nbconvert_exporter": "python",
   "pygments_lexer": "ipython2",
   "version": "2.7.6"
  }
 },
 "nbformat": 4,
 "nbformat_minor": 5
}
