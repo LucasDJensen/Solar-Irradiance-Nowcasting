{
 "cells": [
  {
   "metadata": {
    "ExecuteTime": {
     "end_time": "2025-05-06T13:13:48.926679Z",
     "start_time": "2025-05-06T13:13:48.375407Z"
    }
   },
   "cell_type": "code",
   "source": [
    "import pandas as pd\n",
    "from sklearn.preprocessing import MinMaxScaler\n",
    "\n",
    "from _config import PKL_PROCESSED_STEP2_DTU_SOLAR_STATION\n",
    "\n",
    "TARGETS = ['DNI', 'DHI']\n",
    "INPUT_SEQ_LEN = 60  # 1 hour"
   ],
   "id": "21a9a7de27ad1699",
   "outputs": [],
   "execution_count": 1
  },
  {
   "cell_type": "code",
   "id": "initial_id",
   "metadata": {
    "collapsed": true,
    "ExecuteTime": {
     "end_time": "2025-05-06T13:13:58.735409Z",
     "start_time": "2025-05-06T13:13:57.985242Z"
    }
   },
   "source": [
    "df = pd.read_pickle(PKL_PROCESSED_STEP2_DTU_SOLAR_STATION)\n",
    "df.dropna(inplace=True)\n",
    "minmax_scaler = MinMaxScaler()\n",
    "features = [x for x in df.columns if x not in TARGETS]\n",
    "df[features] = minmax_scaler.fit_transform(df[features])\n",
    "df = df[sorted(df.columns)]\n",
    "\n",
    "print(df.shape)\n",
    "print(df.info())\n",
    "df.head()"
   ],
   "outputs": [
    {
     "name": "stdout",
     "output_type": "stream",
     "text": [
      "(2460682, 18)\n",
      "<class 'pandas.core.frame.DataFrame'>\n",
      "DatetimeIndex: 2460682 entries, 2015-03-12 06:36:00 to 2025-01-01 08:04:00\n",
      "Data columns (total 18 columns):\n",
      " #   Column                    Dtype  \n",
      "---  ------                    -----  \n",
      " 0   DHI                       float64\n",
      " 1   DNI                       float64\n",
      " 2   air_pressure              float64\n",
      " 3   air_pressure_lag_60       float64\n",
      " 4   air_temperature           float64\n",
      " 5   air_temperature_lag_60    float64\n",
      " 6   rain_duration             float64\n",
      " 7   rain_duration_lag_60      float64\n",
      " 8   rain_intensity            float64\n",
      " 9   rain_intensity_lag_60     float64\n",
      " 10  relative_humidity         float64\n",
      " 11  relative_humidity_lag_60  float64\n",
      " 12  solar_altitude            float64\n",
      " 13  solar_altitude_lag_60     float64\n",
      " 14  wind_dir_avg              float64\n",
      " 15  wind_dir_avg_lag_60       float64\n",
      " 16  wind_speed_avg            float64\n",
      " 17  wind_speed_avg_lag_60     float64\n",
      "dtypes: float64(18)\n",
      "memory usage: 356.7 MB\n",
      "None\n"
     ]
    },
    {
     "data": {
      "text/plain": [
       "                       DHI         DNI  air_pressure  air_pressure_lag_60  \\\n",
       "2015-03-12 06:36:00  27.93  550.361984      0.814815             0.984674   \n",
       "2015-03-12 06:37:00  28.29  556.151177      0.814815             0.984674   \n",
       "2015-03-12 06:38:00  28.70  563.337782      0.814815             0.984674   \n",
       "2015-03-12 06:39:00  29.17  569.626158      0.814815             0.984674   \n",
       "2015-03-12 06:40:00  29.48  575.615184      0.814815             0.984674   \n",
       "\n",
       "                     air_temperature  air_temperature_lag_60  rain_duration  \\\n",
       "2015-03-12 06:36:00         0.275779                0.242206            0.0   \n",
       "2015-03-12 06:37:00         0.278177                0.242206            0.0   \n",
       "2015-03-12 06:38:00         0.278177                0.242206            0.0   \n",
       "2015-03-12 06:39:00         0.278177                0.242206            0.0   \n",
       "2015-03-12 06:40:00         0.278177                0.242206            0.0   \n",
       "\n",
       "                     rain_duration_lag_60  rain_intensity  \\\n",
       "2015-03-12 06:36:00                   0.0             0.0   \n",
       "2015-03-12 06:37:00                   0.0             0.0   \n",
       "2015-03-12 06:38:00                   0.0             0.0   \n",
       "2015-03-12 06:39:00                   0.0             0.0   \n",
       "2015-03-12 06:40:00                   0.0             0.0   \n",
       "\n",
       "                     rain_intensity_lag_60  relative_humidity  \\\n",
       "2015-03-12 06:36:00                    0.0           0.775883   \n",
       "2015-03-12 06:37:00                    0.0           0.774665   \n",
       "2015-03-12 06:38:00                    0.0           0.773447   \n",
       "2015-03-12 06:39:00                    0.0           0.774665   \n",
       "2015-03-12 06:40:00                    0.0           0.771011   \n",
       "\n",
       "                     relative_humidity_lag_60  solar_altitude  \\\n",
       "2015-03-12 06:36:00                  0.865323        0.135375   \n",
       "2015-03-12 06:37:00                  0.868505        0.137669   \n",
       "2015-03-12 06:38:00                  0.866384        0.139961   \n",
       "2015-03-12 06:39:00                  0.865323        0.142252   \n",
       "2015-03-12 06:40:00                  0.864263        0.144540   \n",
       "\n",
       "                     solar_altitude_lag_60  wind_dir_avg  wind_dir_avg_lag_60  \\\n",
       "2015-03-12 06:36:00               0.000085      0.787881             0.211930   \n",
       "2015-03-12 06:37:00               0.002090      0.720562             0.301688   \n",
       "2015-03-12 06:38:00               0.004117      0.705602             0.852706   \n",
       "2015-03-12 06:39:00               0.006165      0.767934             0.852706   \n",
       "2015-03-12 06:40:00               0.008233      0.044879             0.752975   \n",
       "\n",
       "                     wind_speed_avg  wind_speed_avg_lag_60  \n",
       "2015-03-12 06:36:00        0.182335               0.197674  \n",
       "2015-03-12 06:37:00        0.191370               0.165763  \n",
       "2015-03-12 06:38:00        0.186853               0.183998  \n",
       "2015-03-12 06:39:00        0.168783               0.183998  \n",
       "2015-03-12 06:40:00        0.173300               0.206791  "
      ],
      "text/html": [
       "<div>\n",
       "<style scoped>\n",
       "    .dataframe tbody tr th:only-of-type {\n",
       "        vertical-align: middle;\n",
       "    }\n",
       "\n",
       "    .dataframe tbody tr th {\n",
       "        vertical-align: top;\n",
       "    }\n",
       "\n",
       "    .dataframe thead th {\n",
       "        text-align: right;\n",
       "    }\n",
       "</style>\n",
       "<table border=\"1\" class=\"dataframe\">\n",
       "  <thead>\n",
       "    <tr style=\"text-align: right;\">\n",
       "      <th></th>\n",
       "      <th>DHI</th>\n",
       "      <th>DNI</th>\n",
       "      <th>air_pressure</th>\n",
       "      <th>air_pressure_lag_60</th>\n",
       "      <th>air_temperature</th>\n",
       "      <th>air_temperature_lag_60</th>\n",
       "      <th>rain_duration</th>\n",
       "      <th>rain_duration_lag_60</th>\n",
       "      <th>rain_intensity</th>\n",
       "      <th>rain_intensity_lag_60</th>\n",
       "      <th>relative_humidity</th>\n",
       "      <th>relative_humidity_lag_60</th>\n",
       "      <th>solar_altitude</th>\n",
       "      <th>solar_altitude_lag_60</th>\n",
       "      <th>wind_dir_avg</th>\n",
       "      <th>wind_dir_avg_lag_60</th>\n",
       "      <th>wind_speed_avg</th>\n",
       "      <th>wind_speed_avg_lag_60</th>\n",
       "    </tr>\n",
       "  </thead>\n",
       "  <tbody>\n",
       "    <tr>\n",
       "      <th>2015-03-12 06:36:00</th>\n",
       "      <td>27.93</td>\n",
       "      <td>550.361984</td>\n",
       "      <td>0.814815</td>\n",
       "      <td>0.984674</td>\n",
       "      <td>0.275779</td>\n",
       "      <td>0.242206</td>\n",
       "      <td>0.0</td>\n",
       "      <td>0.0</td>\n",
       "      <td>0.0</td>\n",
       "      <td>0.0</td>\n",
       "      <td>0.775883</td>\n",
       "      <td>0.865323</td>\n",
       "      <td>0.135375</td>\n",
       "      <td>0.000085</td>\n",
       "      <td>0.787881</td>\n",
       "      <td>0.211930</td>\n",
       "      <td>0.182335</td>\n",
       "      <td>0.197674</td>\n",
       "    </tr>\n",
       "    <tr>\n",
       "      <th>2015-03-12 06:37:00</th>\n",
       "      <td>28.29</td>\n",
       "      <td>556.151177</td>\n",
       "      <td>0.814815</td>\n",
       "      <td>0.984674</td>\n",
       "      <td>0.278177</td>\n",
       "      <td>0.242206</td>\n",
       "      <td>0.0</td>\n",
       "      <td>0.0</td>\n",
       "      <td>0.0</td>\n",
       "      <td>0.0</td>\n",
       "      <td>0.774665</td>\n",
       "      <td>0.868505</td>\n",
       "      <td>0.137669</td>\n",
       "      <td>0.002090</td>\n",
       "      <td>0.720562</td>\n",
       "      <td>0.301688</td>\n",
       "      <td>0.191370</td>\n",
       "      <td>0.165763</td>\n",
       "    </tr>\n",
       "    <tr>\n",
       "      <th>2015-03-12 06:38:00</th>\n",
       "      <td>28.70</td>\n",
       "      <td>563.337782</td>\n",
       "      <td>0.814815</td>\n",
       "      <td>0.984674</td>\n",
       "      <td>0.278177</td>\n",
       "      <td>0.242206</td>\n",
       "      <td>0.0</td>\n",
       "      <td>0.0</td>\n",
       "      <td>0.0</td>\n",
       "      <td>0.0</td>\n",
       "      <td>0.773447</td>\n",
       "      <td>0.866384</td>\n",
       "      <td>0.139961</td>\n",
       "      <td>0.004117</td>\n",
       "      <td>0.705602</td>\n",
       "      <td>0.852706</td>\n",
       "      <td>0.186853</td>\n",
       "      <td>0.183998</td>\n",
       "    </tr>\n",
       "    <tr>\n",
       "      <th>2015-03-12 06:39:00</th>\n",
       "      <td>29.17</td>\n",
       "      <td>569.626158</td>\n",
       "      <td>0.814815</td>\n",
       "      <td>0.984674</td>\n",
       "      <td>0.278177</td>\n",
       "      <td>0.242206</td>\n",
       "      <td>0.0</td>\n",
       "      <td>0.0</td>\n",
       "      <td>0.0</td>\n",
       "      <td>0.0</td>\n",
       "      <td>0.774665</td>\n",
       "      <td>0.865323</td>\n",
       "      <td>0.142252</td>\n",
       "      <td>0.006165</td>\n",
       "      <td>0.767934</td>\n",
       "      <td>0.852706</td>\n",
       "      <td>0.168783</td>\n",
       "      <td>0.183998</td>\n",
       "    </tr>\n",
       "    <tr>\n",
       "      <th>2015-03-12 06:40:00</th>\n",
       "      <td>29.48</td>\n",
       "      <td>575.615184</td>\n",
       "      <td>0.814815</td>\n",
       "      <td>0.984674</td>\n",
       "      <td>0.278177</td>\n",
       "      <td>0.242206</td>\n",
       "      <td>0.0</td>\n",
       "      <td>0.0</td>\n",
       "      <td>0.0</td>\n",
       "      <td>0.0</td>\n",
       "      <td>0.771011</td>\n",
       "      <td>0.864263</td>\n",
       "      <td>0.144540</td>\n",
       "      <td>0.008233</td>\n",
       "      <td>0.044879</td>\n",
       "      <td>0.752975</td>\n",
       "      <td>0.173300</td>\n",
       "      <td>0.206791</td>\n",
       "    </tr>\n",
       "  </tbody>\n",
       "</table>\n",
       "</div>"
      ]
     },
     "execution_count": 2,
     "metadata": {},
     "output_type": "execute_result"
    }
   ],
   "execution_count": 2
  },
  {
   "metadata": {
    "ExecuteTime": {
     "end_time": "2025-05-06T13:15:33.185442Z",
     "start_time": "2025-05-06T13:15:33.174319Z"
    }
   },
   "cell_type": "code",
   "source": [
    "train_df = df.loc['2022']\n",
    "val_df = df.loc['2023']\n",
    "test_df = df.loc['2024']\n",
    "print(train_df.shape, val_df.shape, test_df.shape)"
   ],
   "id": "40a89b2956098b0f",
   "outputs": [
    {
     "name": "stdout",
     "output_type": "stream",
     "text": [
      "(268187, 18) (268219, 18) (253753, 18)\n"
     ]
    }
   ],
   "execution_count": 9
  },
  {
   "metadata": {
    "ExecuteTime": {
     "end_time": "2025-04-19T12:22:15.325234Z",
     "start_time": "2025-04-19T12:22:15.322298Z"
    }
   },
   "cell_type": "code",
   "source": [
    "# # limit the data to years 2023-2024\n",
    "# df = df.loc['2023':]\n",
    "# SPLIT = (0.7, 0.85)  # 65-85% for training; next 20% for validation; remaining 15% for test\n",
    "# total_samples = df.shape[0]\n",
    "# train_end = int(SPLIT[0] * total_samples)  # e.g., 65% for training\n",
    "# val_end = int(SPLIT[1] * total_samples)  # e.g., next 20% for validation\n",
    "#\n",
    "# train_indices = list(range(0, train_end))\n",
    "# val_indices = list(range(train_end, val_end))\n",
    "# test_indices = list(range(val_end, total_samples))\n",
    "# print(f\"Train indices: {train_indices[:5]} ... {train_indices[-5:]}\")\n",
    "# print(f\"Validation indices: {val_indices[:5]} ... {val_indices[-5:]}\")\n",
    "# print(f\"Test indices: {test_indices[:5]} ... {test_indices[-5:]}\")\n",
    "# print(f'Train size: {len(train_indices)}')\n",
    "# print(f'Validation size: {len(val_indices)}')\n",
    "# print(f'Test size: {len(test_indices)}')\n",
    "# train_df = df.iloc[train_indices]\n",
    "# val_df = df.iloc[val_indices]\n",
    "# test_df = df.iloc[test_indices]"
   ],
   "id": "c8357619363bd2d",
   "outputs": [],
   "execution_count": 12
  },
  {
   "metadata": {
    "ExecuteTime": {
     "end_time": "2025-05-06T13:15:51.247038Z",
     "start_time": "2025-05-06T13:15:51.239753Z"
    }
   },
   "cell_type": "code",
   "source": [
    "import numpy as np\n",
    "\n",
    "\n",
    "def create_sequences(X, y, timestamps, input_seq_len, rolling=True):\n",
    "    X_tmp, y_tmp = [], []\n",
    "    total_length = len(y)\n",
    "    # Define the threshold as a timedelta (here, in minutes)\n",
    "    gap_threshold_timedelta = np.timedelta64(1, 'm')\n",
    "\n",
    "    # Slide over the data\n",
    "    i = 0\n",
    "    while i < total_length - input_seq_len:\n",
    "        # Get timestamps for the entire sequence (input and forecast)\n",
    "        seq_timestamps = timestamps[i: i + input_seq_len]\n",
    "        # Calculate differences between consecutive timestamps\n",
    "        time_diffs = np.diff(seq_timestamps)\n",
    "        # If any gap is larger than the allowed threshold, skip this sequence\n",
    "        if np.any(time_diffs > gap_threshold_timedelta):\n",
    "            if rolling:\n",
    "                i += 1\n",
    "            else:\n",
    "                i += input_seq_len  # Skip to the end of the current sequence\n",
    "            continue\n",
    "        # Otherwise, create the sequence as before\n",
    "        X_tmp.append(X[i: i + input_seq_len])\n",
    "        y_tmp.append(y[i: i + input_seq_len])\n",
    "        if rolling:\n",
    "            i += 1\n",
    "        else:\n",
    "            i += input_seq_len  # Skip to the end of the current sequence\n",
    "    return np.array(X_tmp), np.array(y_tmp)"
   ],
   "id": "7dfac94766e10728",
   "outputs": [],
   "execution_count": 10
  },
  {
   "metadata": {
    "ExecuteTime": {
     "end_time": "2025-05-06T13:17:34.082213Z",
     "start_time": "2025-05-06T13:17:03.763096Z"
    }
   },
   "cell_type": "code",
   "source": [
    "from _config import DATA_ROOT\n",
    "\n",
    "# Training data\n",
    "X = train_df.drop(columns=TARGETS)\n",
    "y = train_df[TARGETS]\n",
    "print('Before sequencing:', X.shape, y.shape)\n",
    "X, y = create_sequences(X.to_numpy(), y.to_numpy(), df.index.to_numpy(), INPUT_SEQ_LEN)\n",
    "print('After sequencing:', X.shape, y.shape)\n",
    "# save the data\n",
    "np.savez_compressed(DATA_ROOT / 'train.npz', X=X, y=y)\n",
    "\n",
    "# Validation data\n",
    "X = val_df.drop(columns=TARGETS)\n",
    "y = val_df[TARGETS]\n",
    "print('Before sequencing:', X.shape, y.shape)\n",
    "X, y = create_sequences(X.to_numpy(), y.to_numpy(), df.index.to_numpy(), INPUT_SEQ_LEN, rolling=True)\n",
    "print('After sequencing:', X.shape, y.shape)\n",
    "# save the data\n",
    "np.savez_compressed(DATA_ROOT / 'val.npz', X=X, y=y)\n",
    "\n",
    "# Test data\n",
    "X = test_df.drop(columns=TARGETS)\n",
    "y = test_df[TARGETS]\n",
    "print('Before sequencing:', X.shape, y.shape)\n",
    "X, y = create_sequences(X.to_numpy(), y.to_numpy(), df.index.to_numpy(), INPUT_SEQ_LEN, rolling=True)\n",
    "print('After sequencing:', X.shape, y.shape)\n",
    "# save the data\n",
    "np.savez_compressed(DATA_ROOT / 'test.npz', X=X, y=y)"
   ],
   "id": "d8485e4b26a77243",
   "outputs": [
    {
     "name": "stdout",
     "output_type": "stream",
     "text": [
      "Before sequencing: (268187, 16) (268187, 2)\n",
      "After sequencing: (245728, 60, 16) (245728, 60, 2)\n",
      "Before sequencing: (268219, 16) (268219, 2)\n",
      "After sequencing: (245760, 60, 16) (245760, 60, 2)\n",
      "Before sequencing: (253753, 16) (253753, 2)\n",
      "After sequencing: (232415, 60, 16) (232415, 60, 2)\n"
     ]
    }
   ],
   "execution_count": 13
  },
  {
   "metadata": {
    "ExecuteTime": {
     "end_time": "2025-05-06T13:16:26.347249Z",
     "start_time": "2025-05-06T13:16:24.375931Z"
    }
   },
   "cell_type": "code",
   "source": [
    "# load the data\n",
    "train = np.load(DATA_ROOT / 'train.npz')\n",
    "print(train['X'].shape, train['y'].shape)"
   ],
   "id": "ff53d69fb308a0ce",
   "outputs": [
    {
     "name": "stdout",
     "output_type": "stream",
     "text": [
      "(245728, 60, 16) (245728, 60, 2)\n"
     ]
    }
   ],
   "execution_count": 12
  },
  {
   "metadata": {},
   "cell_type": "code",
   "outputs": [],
   "execution_count": null,
   "source": "",
   "id": "678679ff942065d1"
  }
 ],
 "metadata": {
  "kernelspec": {
   "display_name": "Python 3",
   "language": "python",
   "name": "python3"
  },
  "language_info": {
   "codemirror_mode": {
    "name": "ipython",
    "version": 2
   },
   "file_extension": ".py",
   "mimetype": "text/x-python",
   "name": "python",
   "nbconvert_exporter": "python",
   "pygments_lexer": "ipython2",
   "version": "2.7.6"
  }
 },
 "nbformat": 4,
 "nbformat_minor": 5
}
