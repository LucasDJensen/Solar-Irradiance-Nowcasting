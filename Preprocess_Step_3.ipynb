{
 "cells": [
  {
   "metadata": {
    "ExecuteTime": {
     "end_time": "2025-04-09T15:00:28.544864Z",
     "start_time": "2025-04-09T15:00:28.537698Z"
    }
   },
   "cell_type": "code",
   "source": [
    "import pandas as pd\n",
    "from sklearn.preprocessing import MinMaxScaler\n",
    "\n",
    "from _config import PKL_PROCESSED_STEP2_DTU_SOLAR_STATION\n",
    "\n",
    "TARGETS = ['DNI', 'DHI']\n",
    "INPUT_SEQ_LEN = 60  # 1 hour"
   ],
   "id": "21a9a7de27ad1699",
   "outputs": [],
   "execution_count": 7
  },
  {
   "cell_type": "code",
   "id": "initial_id",
   "metadata": {
    "collapsed": true,
    "ExecuteTime": {
     "end_time": "2025-04-09T15:00:29.480597Z",
     "start_time": "2025-04-09T15:00:28.588677Z"
    }
   },
   "source": [
    "df = pd.read_pickle(PKL_PROCESSED_STEP2_DTU_SOLAR_STATION)\n",
    "df.dropna(inplace=True)\n",
    "minmax_scaler = MinMaxScaler()\n",
    "features = [x for x in df.columns if x not in TARGETS]\n",
    "df[features] = minmax_scaler.fit_transform(df[features])\n",
    "df = df[sorted(df.columns)]\n",
    "\n",
    "print(df.shape)\n",
    "print(df.info())\n",
    "df.head()"
   ],
   "outputs": [
    {
     "name": "stdout",
     "output_type": "stream",
     "text": [
      "(2460682, 10)\n",
      "<class 'pandas.core.frame.DataFrame'>\n",
      "DatetimeIndex: 2460682 entries, 2015-03-12 06:36:00 to 2025-01-01 08:04:00\n",
      "Data columns (total 10 columns):\n",
      " #   Column                    Dtype  \n",
      "---  ------                    -----  \n",
      " 0   DHI                       float64\n",
      " 1   DNI                       float64\n",
      " 2   air_pressure_lag_60       float64\n",
      " 3   air_temperature_lag_60    float64\n",
      " 4   rain_duration_lag_60      float64\n",
      " 5   rain_intensity_lag_60     float64\n",
      " 6   relative_humidity_lag_60  float64\n",
      " 7   solar_altitude_lag_60     float64\n",
      " 8   wind_dir_avg_lag_60       float64\n",
      " 9   wind_speed_avg_lag_60     float64\n",
      "dtypes: float64(10)\n",
      "memory usage: 206.5 MB\n",
      "None\n"
     ]
    },
    {
     "data": {
      "text/plain": [
       "                       DHI         DNI  air_pressure_lag_60  \\\n",
       "2015-03-12 06:36:00  27.93  550.361984             0.802469   \n",
       "2015-03-12 06:37:00  28.29  556.151177             0.802469   \n",
       "2015-03-12 06:38:00  28.70  563.337782             0.802469   \n",
       "2015-03-12 06:39:00  29.17  569.626158             0.802469   \n",
       "2015-03-12 06:40:00  29.48  575.615184             0.802469   \n",
       "\n",
       "                     air_temperature_lag_60  rain_duration_lag_60  \\\n",
       "2015-03-12 06:36:00                0.242206                   0.0   \n",
       "2015-03-12 06:37:00                0.242206                   0.0   \n",
       "2015-03-12 06:38:00                0.242206                   0.0   \n",
       "2015-03-12 06:39:00                0.242206                   0.0   \n",
       "2015-03-12 06:40:00                0.242206                   0.0   \n",
       "\n",
       "                     rain_intensity_lag_60  relative_humidity_lag_60  \\\n",
       "2015-03-12 06:36:00                    0.0                  0.845311   \n",
       "2015-03-12 06:37:00                    0.0                  0.848965   \n",
       "2015-03-12 06:38:00                    0.0                  0.846529   \n",
       "2015-03-12 06:39:00                    0.0                  0.845311   \n",
       "2015-03-12 06:40:00                    0.0                  0.844093   \n",
       "\n",
       "                     solar_altitude_lag_60  wind_dir_avg_lag_60  \\\n",
       "2015-03-12 06:36:00               0.000085             0.211930   \n",
       "2015-03-12 06:37:00               0.002090             0.301688   \n",
       "2015-03-12 06:38:00               0.004117             0.852706   \n",
       "2015-03-12 06:39:00               0.006165             0.852706   \n",
       "2015-03-12 06:40:00               0.008233             0.752975   \n",
       "\n",
       "                     wind_speed_avg_lag_60  \n",
       "2015-03-12 06:36:00               0.195888  \n",
       "2015-03-12 06:37:00               0.164265  \n",
       "2015-03-12 06:38:00               0.182335  \n",
       "2015-03-12 06:39:00               0.182335  \n",
       "2015-03-12 06:40:00               0.204923  "
      ],
      "text/html": [
       "<div>\n",
       "<style scoped>\n",
       "    .dataframe tbody tr th:only-of-type {\n",
       "        vertical-align: middle;\n",
       "    }\n",
       "\n",
       "    .dataframe tbody tr th {\n",
       "        vertical-align: top;\n",
       "    }\n",
       "\n",
       "    .dataframe thead th {\n",
       "        text-align: right;\n",
       "    }\n",
       "</style>\n",
       "<table border=\"1\" class=\"dataframe\">\n",
       "  <thead>\n",
       "    <tr style=\"text-align: right;\">\n",
       "      <th></th>\n",
       "      <th>DHI</th>\n",
       "      <th>DNI</th>\n",
       "      <th>air_pressure_lag_60</th>\n",
       "      <th>air_temperature_lag_60</th>\n",
       "      <th>rain_duration_lag_60</th>\n",
       "      <th>rain_intensity_lag_60</th>\n",
       "      <th>relative_humidity_lag_60</th>\n",
       "      <th>solar_altitude_lag_60</th>\n",
       "      <th>wind_dir_avg_lag_60</th>\n",
       "      <th>wind_speed_avg_lag_60</th>\n",
       "    </tr>\n",
       "  </thead>\n",
       "  <tbody>\n",
       "    <tr>\n",
       "      <th>2015-03-12 06:36:00</th>\n",
       "      <td>27.93</td>\n",
       "      <td>550.361984</td>\n",
       "      <td>0.802469</td>\n",
       "      <td>0.242206</td>\n",
       "      <td>0.0</td>\n",
       "      <td>0.0</td>\n",
       "      <td>0.845311</td>\n",
       "      <td>0.000085</td>\n",
       "      <td>0.211930</td>\n",
       "      <td>0.195888</td>\n",
       "    </tr>\n",
       "    <tr>\n",
       "      <th>2015-03-12 06:37:00</th>\n",
       "      <td>28.29</td>\n",
       "      <td>556.151177</td>\n",
       "      <td>0.802469</td>\n",
       "      <td>0.242206</td>\n",
       "      <td>0.0</td>\n",
       "      <td>0.0</td>\n",
       "      <td>0.848965</td>\n",
       "      <td>0.002090</td>\n",
       "      <td>0.301688</td>\n",
       "      <td>0.164265</td>\n",
       "    </tr>\n",
       "    <tr>\n",
       "      <th>2015-03-12 06:38:00</th>\n",
       "      <td>28.70</td>\n",
       "      <td>563.337782</td>\n",
       "      <td>0.802469</td>\n",
       "      <td>0.242206</td>\n",
       "      <td>0.0</td>\n",
       "      <td>0.0</td>\n",
       "      <td>0.846529</td>\n",
       "      <td>0.004117</td>\n",
       "      <td>0.852706</td>\n",
       "      <td>0.182335</td>\n",
       "    </tr>\n",
       "    <tr>\n",
       "      <th>2015-03-12 06:39:00</th>\n",
       "      <td>29.17</td>\n",
       "      <td>569.626158</td>\n",
       "      <td>0.802469</td>\n",
       "      <td>0.242206</td>\n",
       "      <td>0.0</td>\n",
       "      <td>0.0</td>\n",
       "      <td>0.845311</td>\n",
       "      <td>0.006165</td>\n",
       "      <td>0.852706</td>\n",
       "      <td>0.182335</td>\n",
       "    </tr>\n",
       "    <tr>\n",
       "      <th>2015-03-12 06:40:00</th>\n",
       "      <td>29.48</td>\n",
       "      <td>575.615184</td>\n",
       "      <td>0.802469</td>\n",
       "      <td>0.242206</td>\n",
       "      <td>0.0</td>\n",
       "      <td>0.0</td>\n",
       "      <td>0.844093</td>\n",
       "      <td>0.008233</td>\n",
       "      <td>0.752975</td>\n",
       "      <td>0.204923</td>\n",
       "    </tr>\n",
       "  </tbody>\n",
       "</table>\n",
       "</div>"
      ]
     },
     "execution_count": 8,
     "metadata": {},
     "output_type": "execute_result"
    }
   ],
   "execution_count": 8
  },
  {
   "metadata": {
    "ExecuteTime": {
     "end_time": "2025-04-09T15:00:29.642435Z",
     "start_time": "2025-04-09T15:00:29.638418Z"
    }
   },
   "cell_type": "code",
   "source": [
    "# train_df = df.loc[:'2020']\n",
    "# val_df = df.loc['2021':'2022']\n",
    "# test_df = df.loc['2023':]\n",
    "# print(train_df.shape, val_df.shape, test_df.shape)\n",
    "# df = test_df.copy()"
   ],
   "id": "40a89b2956098b0f",
   "outputs": [],
   "execution_count": 9
  },
  {
   "metadata": {
    "ExecuteTime": {
     "end_time": "2025-04-09T15:00:29.847709Z",
     "start_time": "2025-04-09T15:00:29.759693Z"
    }
   },
   "cell_type": "code",
   "source": [
    "# limit the data to years 2023-2024\n",
    "df = df.loc['2023':]\n",
    "SPLIT = (0.7, 0.85)  # 65-85% for training; next 20% for validation; remaining 15% for test\n",
    "total_samples = df.shape[0]\n",
    "train_end = int(SPLIT[0] * total_samples)  # e.g., 65% for training\n",
    "val_end = int(SPLIT[1] * total_samples)  # e.g., next 20% for validation\n",
    "\n",
    "train_indices = list(range(0, train_end))\n",
    "val_indices = list(range(train_end, val_end))\n",
    "test_indices = list(range(val_end, total_samples))\n",
    "print(f\"Train indices: {train_indices[:5]} ... {train_indices[-5:]}\")\n",
    "print(f\"Validation indices: {val_indices[:5]} ... {val_indices[-5:]}\")\n",
    "print(f\"Test indices: {test_indices[:5]} ... {test_indices[-5:]}\")\n",
    "print(f'Train size: {len(train_indices)}')\n",
    "print(f'Validation size: {len(val_indices)}')\n",
    "print(f'Test size: {len(test_indices)}')\n",
    "train_df = df.iloc[train_indices]\n",
    "val_df = df.iloc[val_indices]\n",
    "test_df = df.iloc[test_indices]"
   ],
   "id": "c8357619363bd2d",
   "outputs": [
    {
     "name": "stdout",
     "output_type": "stream",
     "text": [
      "Train indices: [0, 1, 2, 3, 4] ... [365390, 365391, 365392, 365393, 365394]\n",
      "Validation indices: [365395, 365396, 365397, 365398, 365399] ... [443689, 443690, 443691, 443692, 443693]\n",
      "Test indices: [443694, 443695, 443696, 443697, 443698] ... [521989, 521990, 521991, 521992, 521993]\n",
      "Train size: 365395\n",
      "Validation size: 78299\n",
      "Test size: 78300\n"
     ]
    }
   ],
   "execution_count": 10
  },
  {
   "metadata": {
    "ExecuteTime": {
     "end_time": "2025-04-09T15:00:29.991755Z",
     "start_time": "2025-04-09T15:00:29.984013Z"
    }
   },
   "cell_type": "code",
   "source": [
    "import numpy as np\n",
    "\n",
    "\n",
    "def create_sequences(X, y, timestamps, input_seq_len, rolling=True):\n",
    "    X_tmp, y_tmp = [], []\n",
    "    total_length = len(y)\n",
    "    # Define the threshold as a timedelta (here, in minutes)\n",
    "    gap_threshold_timedelta = np.timedelta64(1, 'm')\n",
    "\n",
    "    # Slide over the data\n",
    "    i = 0\n",
    "    while i < total_length - input_seq_len:\n",
    "        # Get timestamps for the entire sequence (input and forecast)\n",
    "        seq_timestamps = timestamps[i: i + input_seq_len]\n",
    "        # Calculate differences between consecutive timestamps\n",
    "        time_diffs = np.diff(seq_timestamps)\n",
    "        # If any gap is larger than the allowed threshold, skip this sequence\n",
    "        if np.any(time_diffs > gap_threshold_timedelta):\n",
    "            if rolling:\n",
    "                i += 1\n",
    "            else:\n",
    "                i += input_seq_len  # Skip to the end of the current sequence\n",
    "            continue\n",
    "        # Otherwise, create the sequence as before\n",
    "        X_tmp.append(X[i: i + input_seq_len])\n",
    "        y_tmp.append(y[i: i + input_seq_len])\n",
    "        if rolling:\n",
    "            i += 1\n",
    "        else:\n",
    "            i += input_seq_len  # Skip to the end of the current sequence\n",
    "    return np.array(X_tmp), np.array(y_tmp)"
   ],
   "id": "7dfac94766e10728",
   "outputs": [],
   "execution_count": 11
  },
  {
   "metadata": {
    "ExecuteTime": {
     "end_time": "2025-04-09T15:00:50.455224Z",
     "start_time": "2025-04-09T15:00:30.026680Z"
    }
   },
   "cell_type": "code",
   "source": [
    "from _config import DATA_ROOT\n",
    "\n",
    "# Training data\n",
    "X = train_df.drop(columns=TARGETS)\n",
    "y = train_df[TARGETS]\n",
    "print('Before sequencing:', X.shape, y.shape)\n",
    "X, y = create_sequences(X.to_numpy(), y.to_numpy(), df.index.to_numpy(), INPUT_SEQ_LEN)\n",
    "print('After sequencing:', X.shape, y.shape)\n",
    "# save the data\n",
    "np.savez_compressed(DATA_ROOT / 'train.npz', X=X, y=y)\n",
    "\n",
    "# Validation data\n",
    "X = val_df.drop(columns=TARGETS)\n",
    "y = val_df[TARGETS]\n",
    "print('Before sequencing:', X.shape, y.shape)\n",
    "X, y = create_sequences(X.to_numpy(), y.to_numpy(), df.index.to_numpy(), INPUT_SEQ_LEN, rolling=False)\n",
    "print('After sequencing:', X.shape, y.shape)\n",
    "# save the data\n",
    "np.savez_compressed(DATA_ROOT / 'val.npz', X=X, y=y)\n",
    "\n",
    "# Test data\n",
    "X = test_df.drop(columns=TARGETS)\n",
    "y = test_df[TARGETS]\n",
    "print('Before sequencing:', X.shape, y.shape)\n",
    "X, y = create_sequences(X.to_numpy(), y.to_numpy(), df.index.to_numpy(), INPUT_SEQ_LEN, rolling=False)\n",
    "print('After sequencing:', X.shape, y.shape)\n",
    "# save the data\n",
    "np.savez_compressed(DATA_ROOT / 'test.npz', X=X, y=y)"
   ],
   "id": "d8485e4b26a77243",
   "outputs": [
    {
     "name": "stdout",
     "output_type": "stream",
     "text": [
      "Before sequencing: (365395, 8) (365395, 2)\n",
      "After sequencing: (335245, 60, 8) (335245, 60, 2)\n",
      "Before sequencing: (78299, 8) (78299, 2)\n",
      "After sequencing: (1185, 60, 8) (1185, 60, 2)\n",
      "Before sequencing: (78300, 8) (78300, 2)\n",
      "After sequencing: (1185, 60, 8) (1185, 60, 2)\n"
     ]
    }
   ],
   "execution_count": 12
  },
  {
   "metadata": {
    "ExecuteTime": {
     "end_time": "2025-04-09T15:00:53.002884Z",
     "start_time": "2025-04-09T15:00:50.484508Z"
    }
   },
   "cell_type": "code",
   "source": [
    "# load the data\n",
    "train = np.load(DATA_ROOT / 'train.npz')\n",
    "print(train['X'].shape, train['y'].shape)"
   ],
   "id": "ff53d69fb308a0ce",
   "outputs": [
    {
     "name": "stdout",
     "output_type": "stream",
     "text": [
      "(335245, 60, 8) (335245, 60, 2)\n"
     ]
    }
   ],
   "execution_count": 13
  }
 ],
 "metadata": {
  "kernelspec": {
   "display_name": "Python 3",
   "language": "python",
   "name": "python3"
  },
  "language_info": {
   "codemirror_mode": {
    "name": "ipython",
    "version": 2
   },
   "file_extension": ".py",
   "mimetype": "text/x-python",
   "name": "python",
   "nbconvert_exporter": "python",
   "pygments_lexer": "ipython2",
   "version": "2.7.6"
  }
 },
 "nbformat": 4,
 "nbformat_minor": 5
}
